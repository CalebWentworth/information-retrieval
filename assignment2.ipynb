{
 "cells": [
  {
   "cell_type": "code",
   "execution_count": 1,
   "id": "c43b960e-79d5-4ea6-bd3e-e72d53320387",
   "metadata": {},
   "outputs": [],
   "source": [
    "import nltk\n",
    "import json\n",
    "from nltk.corpus import stopwords\n",
    "from nltk.tokenize import word_tokenize\n",
    "from bs4 import BeautifulSoup"
   ]
  },
  {
   "cell_type": "code",
   "execution_count": 2,
   "id": "ee342f68-a73c-405a-a4e6-8a7163bd461e",
   "metadata": {},
   "outputs": [
    {
     "name": "stderr",
     "output_type": "stream",
     "text": [
      "[nltk_data] Downloading package stopwords to\n",
      "[nltk_data]     /home/calebwentworth/nltk_data...\n",
      "[nltk_data]   Package stopwords is already up-to-date!\n"
     ]
    },
    {
     "data": {
      "text/plain": [
       "True"
      ]
     },
     "execution_count": 2,
     "metadata": {},
     "output_type": "execute_result"
    }
   ],
   "source": [
    "nltk.download('stopwords')"
   ]
  },
  {
   "cell_type": "code",
   "execution_count": 3,
   "id": "9155ae3d-fed1-4fb9-b27d-ef68d5f084e7",
   "metadata": {},
   "outputs": [],
   "source": [
    "def remove_stopwords(text, lst_stopwords):\n",
    "    words = text.split()\n",
    "    filtered_sentence = [w for w in words if not w.lower() in lst_stopwords]\n",
    "    clean_text = ' '.join(filtered_sentence).strip()\n",
    "    return clean_text"
   ]
  },
  {
   "cell_type": "code",
   "execution_count": 4,
   "id": "7a70e66d-be5b-4365-b366-6d58807e7cf3",
   "metadata": {},
   "outputs": [],
   "source": [
    "def preprocess_questions(question_dictionary):\n",
    "    stop_words = stopwords.words('english')\n",
    "    for item in data:\n",
    "        title = item['Title']\n",
    "        title = remove_stopwords(title, stop_words)\n",
    "        body = item['Body']\n",
    "        body = remove_stopwords(body, stop_words)\n",
    "        item['Title'] = title\n",
    "        item['Body'] = body\n",
    "    return question_dictionary"
   ]
  },
  {
   "cell_type": "code",
   "execution_count": 5,
   "id": "ffc7e9c2-a8b6-4da7-99fe-c093fe97f8a3",
   "metadata": {},
   "outputs": [],
   "source": [
    "def remove_tags(soup):\n",
    "    for data in soup:\n",
    "        data.decompose\n",
    "    return ' '.join(soup.stripped_strings)"
   ]
  },
  {
   "cell_type": "code",
   "execution_count": 6,
   "id": "1f63d551-36b0-485e-aa6f-2ab6e418e7ff",
   "metadata": {},
   "outputs": [],
   "source": [
    "def preprocess_remove_html(question_dictionary):\n",
    "    for item in data:\n",
    "        body = item['Body']\n",
    "        body = remove_tags(BeautifulSoup(body, \"html.parser\"))\n",
    "        item['Body'] = body\n",
    "    print(\"Tags removed\")"
   ]
  },
  {
   "cell_type": "code",
   "execution_count": null,
   "id": "ac0070c8-f888-4a8b-b5f2-1e063480139f",
   "metadata": {},
   "outputs": [],
   "source": [
    "def tokenize_input(input):\n",
    "    \n",
    "    return"
   ]
  },
  {
   "cell_type": "code",
   "execution_count": null,
   "id": "1b0f474e-314d-4925-8f5d-db05a692240b",
   "metadata": {},
   "outputs": [],
   "source": [
    "def index(data):\n",
    "    hi =0"
   ]
  },
  {
   "cell_type": "code",
   "execution_count": null,
   "id": "27a6d687-2484-4ec0-8131-d937dbbe91bf",
   "metadata": {},
   "outputs": [],
   "source": []
  },
  {
   "cell_type": "code",
   "execution_count": 7,
   "id": "15e77936-bb9f-411b-aaaa-0352559b77a3",
   "metadata": {},
   "outputs": [],
   "source": [
    "with open('test.json','r') as file:\n",
    "    data = json.load(file)\n",
    "    \n"
   ]
  },
  {
   "cell_type": "code",
   "execution_count": 8,
   "id": "4cad9f92-c837-4ed1-9586-d7484e804db6",
   "metadata": {},
   "outputs": [
    {
     "name": "stdout",
     "output_type": "stream",
     "text": [
      "Tags removed\n"
     ]
    }
   ],
   "source": [
    "preprocess_remove_html(data)"
   ]
  },
  {
   "cell_type": "code",
   "execution_count": null,
   "id": "af64a7bb-fb5a-4b0b-b0dd-ce5c26793a11",
   "metadata": {},
   "outputs": [],
   "source": [
    "preprocess_questions(data)"
   ]
  },
  {
   "cell_type": "code",
   "execution_count": null,
   "id": "2cbafb41-2a3e-4ca9-98ce-cfc89a157e28",
   "metadata": {},
   "outputs": [],
   "source": []
  }
 ],
 "metadata": {
  "kernelspec": {
   "display_name": "Python 3 (ipykernel)",
   "language": "python",
   "name": "python3"
  },
  "language_info": {
   "codemirror_mode": {
    "name": "ipython",
    "version": 3
   },
   "file_extension": ".py",
   "mimetype": "text/x-python",
   "name": "python",
   "nbconvert_exporter": "python",
   "pygments_lexer": "ipython3",
   "version": "3.10.12"
  }
 },
 "nbformat": 4,
 "nbformat_minor": 5
}
