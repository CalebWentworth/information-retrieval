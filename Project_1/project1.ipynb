{
 "cells": [
  {
   "cell_type": "code",
   "execution_count": 2,
   "metadata": {},
   "outputs": [],
   "source": [
    "import nltk\n",
    "import pandas as pd\n",
    "from bs4 import BeautifulSoup\n",
    "import json\n",
    "import lxml\n",
    "import pandas as pd\n",
    "import pyterrier as pt\n",
    "import string\n",
    "\n"
   ]
  },
  {
   "cell_type": "code",
   "execution_count": 3,
   "metadata": {},
   "outputs": [],
   "source": [
    "!rm -rf ./index"
   ]
  },
  {
   "cell_type": "code",
   "execution_count": null,
   "metadata": {},
   "outputs": [],
   "source": [
    "nltk.download('stopwords')\n",
    "nltk.download('punkt')"
   ]
  },
  {
   "cell_type": "code",
   "execution_count": 6,
   "metadata": {},
   "outputs": [],
   "source": [
    "input_file = \"Answers.json\"\n",
    "query_file = \"topics_2.json\"\n",
    "qrel_file = \"qrel_1.tsv\"\n",
    "\n",
    "with open(input_file,'r') as file:\n",
    "    answers = json.load(file)\n",
    "\n",
    "with open(query_file,'r') as file:\n",
    "    queries = json.load(file)"
   ]
  },
  {
   "cell_type": "code",
   "execution_count": 26,
   "metadata": {},
   "outputs": [],
   "source": [
    "#very simple preprocessing, parses inputs with lxml parser as default python parser removed\n",
    "# way too much of the anwswer text.\n",
    "def process_input(data):\n",
    "    for item in data:\n",
    "        text = item['Text']\n",
    "        soup = BeautifulSoup(text, \"lxml\")\n",
    "        text = soup.get_text()\n",
    "        item['Text'] = text"
   ]
  },
  {
   "cell_type": "code",
   "execution_count": 8,
   "metadata": {},
   "outputs": [],
   "source": [
    "process_input(answers)"
   ]
  },
  {
   "cell_type": "code",
   "execution_count": 9,
   "metadata": {},
   "outputs": [],
   "source": [
    "index_path = \"./index\""
   ]
  },
  {
   "cell_type": "code",
   "execution_count": 10,
   "metadata": {},
   "outputs": [],
   "source": [
    "#define format of incoming data\n",
    "columns = ['Id','Text','Score']"
   ]
  },
  {
   "cell_type": "code",
   "execution_count": 11,
   "metadata": {},
   "outputs": [],
   "source": [
    "#reformats answers to be in terrier compatible format\n",
    "answer_frame = pd.DataFrame(answers, columns=columns)\n",
    "answer_frame = answer_frame.rename(columns={'Id': 'docno','Text':'text'})"
   ]
  },
  {
   "cell_type": "code",
   "execution_count": null,
   "metadata": {},
   "outputs": [],
   "source": [
    "answer_frame"
   ]
  },
  {
   "cell_type": "code",
   "execution_count": null,
   "metadata": {},
   "outputs": [],
   "source": [
    "pd_indexer = pt.terrier.IterDictIndexer(index_path).index(answer_frame.to_dict(orient='records'))"
   ]
  },
  {
   "cell_type": "code",
   "execution_count": 15,
   "metadata": {},
   "outputs": [],
   "source": [
    "index = pt.IndexFactory.of(pd_indexer)"
   ]
  },
  {
   "cell_type": "code",
   "execution_count": null,
   "metadata": {},
   "outputs": [],
   "source": [
    "print(index.getCollectionStatistics().toString())"
   ]
  },
  {
   "cell_type": "code",
   "execution_count": 18,
   "metadata": {},
   "outputs": [],
   "source": [
    "\"\"\"def process_queries(queries):\n",
    "    #this converts the raw json querries into [qid: 'num',query:[token,token,token]]\n",
    "    processed_queries = pd.DataFrame(columns=['qid', 'query'])\n",
    "\n",
    "    for index, row in queries.iterrows():\n",
    "        qid, title = row['Id'], row['Title']\n",
    "        #THIS IS SOOOO IMPORTANT HOLY CRAP WHY DOES THE \"?\" CHAR CRASH TERRIER?!?!?!?!?\n",
    "        title = title.translate(str.maketrans('', '', string.punctuation))\n",
    "        new_row = {'qid': qid, 'query': title}\n",
    "        new_row_df = pd.DataFrame([new_row])\n",
    "        processed_queries = pd.concat([processed_queries, new_row_df], ignore_index=True)\n",
    "        \n",
    "    return processed_queries\n",
    "    \"\"\" #deprecated this should work but doesnt..."
   ]
  },
  {
   "cell_type": "code",
   "execution_count": 17,
   "metadata": {},
   "outputs": [],
   "source": [
    "#processes the queires via the provided class example.\n",
    "#further expienments should change how we do this\n",
    "def process_queries(queries):\n",
    "    lst_q = []\n",
    "    for item in queries:\n",
    "        lst_q.append([item['Id'],\n",
    "        item['Title'].translate(str.maketrans('', '', string.punctuation))])\n",
    "    processed_queries = pd.DataFrame(lst_q, columns=[\"qid\", \"query\"])\n",
    "    return processed_queries"
   ]
  },
  {
   "cell_type": "code",
   "execution_count": 18,
   "metadata": {},
   "outputs": [],
   "source": [
    "queries = json.load(open(query_file))\n",
    "processed_queries = process_queries(queries)"
   ]
  },
  {
   "cell_type": "code",
   "execution_count": 19,
   "metadata": {},
   "outputs": [],
   "source": [
    "#define the retreivers for all the models used\n",
    "\n",
    "bm_retr = pt.terrier.Retriever(index,controls = {\"wmodel\": \"BM25\"},verbose=True,num_results=1000)\n",
    "dfiz_retr = pt.terrier.Retriever(index,controls = {\"wmodel\": \"DFIZ\"},verbose=True,num_results=1000)\n",
    "dfic_retr = pt.terrier.Retriever(index,controls = {\"wmodel\": \"DFIC\"},verbose=True,num_results=1000)\n",
    "hiemstralm_retr = pt.terrier.Retriever(index,controls = {\"wmodel\": \"Hiemstra_LM\"},verbose=True,num_results=1000)\n",
    "dfree_retr = pt.terrier.Retriever(index,controls = {\"wmodel\": \"DFRee\"},verbose=True,num_results=1000)\n",
    "dfreeKlim_retr = pt.terrier.Retriever(index,controls = {\"wmodel\": \"DFReeKLIM\"},verbose=True,num_results=1000)\n",
    "tf_retr = pt.terrier.Retriever(index,controls = {\"wmodel\": \"TF_IDF\"},verbose=True,num_results=1000)"
   ]
  },
  {
   "cell_type": "code",
   "execution_count": null,
   "metadata": {},
   "outputs": [],
   "source": [
    "#Testing for two models to make sure things are properly working\n",
    "bm_res = bm_retr.transform(processed_queries)\n",
    "dfiz_res = dfiz_retr.transform(processed_queries)"
   ]
  },
  {
   "cell_type": "code",
   "execution_count": 20,
   "metadata": {},
   "outputs": [],
   "source": [
    "#evaluation\n",
    "from pyterrier.measures import *\n",
    "qrels = pt.io.read_qrels(qrel_file)"
   ]
  },
  {
   "cell_type": "code",
   "execution_count": 21,
   "metadata": {},
   "outputs": [],
   "source": [
    "metrics = [\"ndcg\", \"P_5\", \"P_10\", \"P\", \"map\", \"bpref\",\"recip_rank\"]"
   ]
  },
  {
   "cell_type": "code",
   "execution_count": null,
   "metadata": {},
   "outputs": [],
   "source": [
    "#defines the expirment to run using chosen metrics and excluding queries not in the qrel\n",
    "res = pt.Experiment(\n",
    "    [bm_retr,dfiz_retr,dfic_retr,hiemstralm_retr,dfree_retr,dfreeKlim_retr,tf_retr],\n",
    "    processed_queries,\n",
    "    qrels,\n",
    "    eval_metrics=metrics,\n",
    "    names=[\"BM25\",\"DFIZ\",\"DFIC\",\"Hiemstra_Lm\",\"DFRee\",\"DFreeKlim\",\"TF-IDF\"],\n",
    "    save_dir=\"./\",\n",
    "    filter_by_qrels=True,\n",
    "    test='t',\n",
    "    baseline=6\n",
    ")"
   ]
  },
  {
   "cell_type": "code",
   "execution_count": null,
   "metadata": {},
   "outputs": [],
   "source": [
    "print(res)"
   ]
  },
  {
   "cell_type": "code",
   "execution_count": 122,
   "metadata": {},
   "outputs": [],
   "source": [
    "#formatting results into a dataframe for export\n",
    "names=[\"BM25\",\"DFIZ\",\"DFIC\",\"Hiemstra_Lm\",\"DFRee\",\"DFreeKlim\",\"TF-IDF\"]\n",
    "res_df = pd.DataFrame(res)"
   ]
  },
  {
   "cell_type": "code",
   "execution_count": 107,
   "metadata": {},
   "outputs": [],
   "source": [
    "res_df.to_csv('results.tsv', sep='\\t', index=False)"
   ]
  },
  {
   "cell_type": "code",
   "execution_count": null,
   "metadata": {},
   "outputs": [],
   "source": [
    "#runs a per query expirement for top 3 models\n",
    "per_query = pt.Experiment(\n",
    "    [bm_retr,tf_retr,dfree_retr],\n",
    "    processed_queries,\n",
    "    qrels,\n",
    "    eval_metrics=[\"ndcg\", \"P_5\", \"bpref\",\"recip_rank\"],\n",
    "    filter_by_qrels=True,\n",
    "    perquery=True,\n",
    "    names=[\"BM25\",\"TF-IDF\",\"DFreeKlim\"]\n",
    "    )"
   ]
  },
  {
   "cell_type": "code",
   "execution_count": 130,
   "metadata": {},
   "outputs": [],
   "source": [
    "per_query.to_csv('per_q.tsv',sep='\\t', index=False)"
   ]
  },
  {
   "cell_type": "code",
   "execution_count": null,
   "metadata": {},
   "outputs": [],
   "source": [
    "#Ad-hoc querry\n",
    "ad_hoc = \"best way to monitor processes\"\n",
    "top_k = 5\n",
    "top_k_bm = bm_retr.search(ad_hoc).head(top_k)\n",
    "top_k_df = dfreeKlim_retr.search(ad_hoc).head(top_k)\n"
   ]
  },
  {
   "cell_type": "code",
   "execution_count": 31,
   "metadata": {},
   "outputs": [],
   "source": [
    "#for in editor viewing of result information.\n",
    "df_results = pd.read_csv(\"results/topic_1_DFreeKlim.res/DFreeKlim.res\", sep=' ')\n",
    "tf_results = pd.read_csv(\"results/topic_1_TF-IDF.res/TF-IDF.res\", sep=' ')\n",
    "bm_results = pd.read_csv(\"results/topic_1_BM25.res/BM25.res\", sep=' ')"
   ]
  },
  {
   "cell_type": "code",
   "execution_count": null,
   "metadata": {},
   "outputs": [],
   "source": []
  }
 ],
 "metadata": {
  "kernelspec": {
   "display_name": ".venv",
   "language": "python",
   "name": "python3"
  },
  "language_info": {
   "codemirror_mode": {
    "name": "ipython",
    "version": 3
   },
   "file_extension": ".py",
   "mimetype": "text/x-python",
   "name": "python",
   "nbconvert_exporter": "python",
   "pygments_lexer": "ipython3",
   "version": "3.12.3"
  }
 },
 "nbformat": 4,
 "nbformat_minor": 2
}
