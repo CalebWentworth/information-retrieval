{
 "cells": [
  {
   "cell_type": "code",
   "execution_count": 1,
   "metadata": {},
   "outputs": [],
   "source": [
    "import nltk\n",
    "import pandas as pd\n",
    "from bs4 import BeautifulSoup\n",
    "import json\n",
    "import lxml\n",
    "import pandas as pd\n",
    "import pyterrier as pt\n",
    "import string\n",
    "\n"
   ]
  },
  {
   "cell_type": "code",
   "execution_count": 2,
   "metadata": {},
   "outputs": [],
   "source": [
    "!rm -rf ./index"
   ]
  },
  {
   "cell_type": "code",
   "execution_count": 3,
   "metadata": {},
   "outputs": [
    {
     "name": "stderr",
     "output_type": "stream",
     "text": [
      "[nltk_data] Downloading package stopwords to /home/caleb/nltk_data...\n",
      "[nltk_data]   Package stopwords is already up-to-date!\n",
      "[nltk_data] Downloading package punkt to /home/caleb/nltk_data...\n",
      "[nltk_data]   Package punkt is already up-to-date!\n"
     ]
    },
    {
     "data": {
      "text/plain": [
       "True"
      ]
     },
     "execution_count": 3,
     "metadata": {},
     "output_type": "execute_result"
    }
   ],
   "source": [
    "nltk.download('stopwords')\n",
    "nltk.download('punkt')"
   ]
  },
  {
   "cell_type": "code",
   "execution_count": 4,
   "metadata": {},
   "outputs": [],
   "source": [
    "input_file = \"Answers.json\"\n",
    "query_file = \"topics_2.json\"\n",
    "qrel_file = \"qrel_1.tsv\"\n",
    "\n",
    "with open(input_file,'r') as file:\n",
    "    answers = json.load(file)\n",
    "\n",
    "with open(query_file,'r') as file:\n",
    "    queries = json.load(file)"
   ]
  },
  {
   "cell_type": "code",
   "execution_count": 5,
   "metadata": {},
   "outputs": [],
   "source": [
    "#very simple preprocessing, parses inputs with lxml parser as default python parser removed\n",
    "# way too much of the anwswer text.\n",
    "def process_input(data):\n",
    "    for item in data:\n",
    "        text = item['Text']\n",
    "        soup = BeautifulSoup(text, \"lxml\")\n",
    "        text = soup.get_text()\n",
    "        item['Text'] = text"
   ]
  },
  {
   "cell_type": "code",
   "execution_count": 6,
   "metadata": {},
   "outputs": [],
   "source": [
    "process_input(answers)"
   ]
  },
  {
   "cell_type": "code",
   "execution_count": 7,
   "metadata": {},
   "outputs": [],
   "source": [
    "index_path = \"./index\""
   ]
  },
  {
   "cell_type": "code",
   "execution_count": 8,
   "metadata": {},
   "outputs": [],
   "source": [
    "#define format of incoming data\n",
    "columns = ['Id','Text','Score']"
   ]
  },
  {
   "cell_type": "code",
   "execution_count": 9,
   "metadata": {},
   "outputs": [],
   "source": [
    "#reformats answers to be in terrier compatible format\n",
    "answer_frame = pd.DataFrame(answers, columns=columns)\n",
    "answer_frame = answer_frame.rename(columns={'Id': 'docno','Text':'text'})"
   ]
  },
  {
   "cell_type": "code",
   "execution_count": 10,
   "metadata": {},
   "outputs": [
    {
     "data": {
      "text/html": [
       "<div>\n",
       "<style scoped>\n",
       "    .dataframe tbody tr th:only-of-type {\n",
       "        vertical-align: middle;\n",
       "    }\n",
       "\n",
       "    .dataframe tbody tr th {\n",
       "        vertical-align: top;\n",
       "    }\n",
       "\n",
       "    .dataframe thead th {\n",
       "        text-align: right;\n",
       "    }\n",
       "</style>\n",
       "<table border=\"1\" class=\"dataframe\">\n",
       "  <thead>\n",
       "    <tr style=\"text-align: right;\">\n",
       "      <th></th>\n",
       "      <th>docno</th>\n",
       "      <th>text</th>\n",
       "      <th>Score</th>\n",
       "    </tr>\n",
       "  </thead>\n",
       "  <tbody>\n",
       "    <tr>\n",
       "      <th>0</th>\n",
       "      <td>2</td>\n",
       "      <td>Maybe these instructions will help you to get ...</td>\n",
       "      <td>41</td>\n",
       "    </tr>\n",
       "    <tr>\n",
       "      <th>1</th>\n",
       "      <td>10</td>\n",
       "      <td>You could use freenx instead of vnc. Freenx tr...</td>\n",
       "      <td>12</td>\n",
       "    </tr>\n",
       "    <tr>\n",
       "      <th>2</th>\n",
       "      <td>12</td>\n",
       "      <td>Yes, X forwarding over ssh is a beautiful thin...</td>\n",
       "      <td>22</td>\n",
       "    </tr>\n",
       "    <tr>\n",
       "      <th>3</th>\n",
       "      <td>18</td>\n",
       "      <td>You can use the alternative CD (instead of Ubu...</td>\n",
       "      <td>7</td>\n",
       "    </tr>\n",
       "    <tr>\n",
       "      <th>4</th>\n",
       "      <td>19</td>\n",
       "      <td>I've always helped identified people's needs a...</td>\n",
       "      <td>8</td>\n",
       "    </tr>\n",
       "    <tr>\n",
       "      <th>...</th>\n",
       "      <td>...</td>\n",
       "      <td>...</td>\n",
       "      <td>...</td>\n",
       "    </tr>\n",
       "    <tr>\n",
       "      <th>523723</th>\n",
       "      <td>1509129</td>\n",
       "      <td>If anyone struggling with this, copy the conte...</td>\n",
       "      <td>1</td>\n",
       "    </tr>\n",
       "    <tr>\n",
       "      <th>523724</th>\n",
       "      <td>1509131</td>\n",
       "      <td>Edit the file /etc/systemd/sleep.conf with the...</td>\n",
       "      <td>0</td>\n",
       "    </tr>\n",
       "    <tr>\n",
       "      <th>523725</th>\n",
       "      <td>1509140</td>\n",
       "      <td>Had a similar issue withAndroid Smartphone: Hu...</td>\n",
       "      <td>1</td>\n",
       "    </tr>\n",
       "    <tr>\n",
       "      <th>523726</th>\n",
       "      <td>1509147</td>\n",
       "      <td>As described in another answer, the solusion i...</td>\n",
       "      <td>0</td>\n",
       "    </tr>\n",
       "    <tr>\n",
       "      <th>523727</th>\n",
       "      <td>1509152</td>\n",
       "      <td>xmodmap will reset upon plugging in a new keyb...</td>\n",
       "      <td>0</td>\n",
       "    </tr>\n",
       "  </tbody>\n",
       "</table>\n",
       "<p>523728 rows × 3 columns</p>\n",
       "</div>"
      ],
      "text/plain": [
       "          docno                                               text Score\n",
       "0             2  Maybe these instructions will help you to get ...    41\n",
       "1            10  You could use freenx instead of vnc. Freenx tr...    12\n",
       "2            12  Yes, X forwarding over ssh is a beautiful thin...    22\n",
       "3            18  You can use the alternative CD (instead of Ubu...     7\n",
       "4            19  I've always helped identified people's needs a...     8\n",
       "...         ...                                                ...   ...\n",
       "523723  1509129  If anyone struggling with this, copy the conte...     1\n",
       "523724  1509131  Edit the file /etc/systemd/sleep.conf with the...     0\n",
       "523725  1509140  Had a similar issue withAndroid Smartphone: Hu...     1\n",
       "523726  1509147  As described in another answer, the solusion i...     0\n",
       "523727  1509152  xmodmap will reset upon plugging in a new keyb...     0\n",
       "\n",
       "[523728 rows x 3 columns]"
      ]
     },
     "execution_count": 10,
     "metadata": {},
     "output_type": "execute_result"
    }
   ],
   "source": [
    "answer_frame"
   ]
  },
  {
   "cell_type": "code",
   "execution_count": 11,
   "metadata": {},
   "outputs": [
    {
     "name": "stderr",
     "output_type": "stream",
     "text": [
      "Java started (triggered by TerrierIndexer.__init__) and loaded: pyterrier.java, pyterrier.terrier.java [version=5.10 (build: craigm 2024-08-22 17:33), helper_version=0.0.8]\n"
     ]
    },
    {
     "name": "stdout",
     "output_type": "stream",
     "text": [
      "16:31:04.229 [ForkJoinPool-1-worker-1] WARN org.terrier.structures.indexing.Indexer -- Adding an empty document to the index (16123) - further warnings are suppressed\n",
      "16:31:29.096 [ForkJoinPool-1-worker-1] WARN org.terrier.structures.indexing.Indexer -- Indexed 4 empty documents\n"
     ]
    }
   ],
   "source": [
    "pd_indexer = pt.terrier.IterDictIndexer(index_path).index(answer_frame.to_dict(orient='records'))"
   ]
  },
  {
   "cell_type": "code",
   "execution_count": 12,
   "metadata": {},
   "outputs": [],
   "source": [
    "index = pt.IndexFactory.of(pd_indexer)"
   ]
  },
  {
   "cell_type": "code",
   "execution_count": 13,
   "metadata": {},
   "outputs": [
    {
     "name": "stdout",
     "output_type": "stream",
     "text": [
      "Number of documents: 523728\n",
      "Number of terms: 621208\n",
      "Number of postings: 19911657\n",
      "Number of fields: 1\n",
      "Number of tokens: 31765345\n",
      "Field names: [text]\n",
      "Positions:   false\n",
      "\n"
     ]
    }
   ],
   "source": [
    "print(index.getCollectionStatistics().toString())"
   ]
  },
  {
   "cell_type": "code",
   "execution_count": 18,
   "metadata": {},
   "outputs": [],
   "source": [
    "\"\"\"def process_queries(queries):\n",
    "    #this converts the raw json querries into [qid: 'num',query:[token,token,token]]\n",
    "    processed_queries = pd.DataFrame(columns=['qid', 'query'])\n",
    "\n",
    "    for index, row in queries.iterrows():\n",
    "        qid, title = row['Id'], row['Title']\n",
    "        #THIS IS SOOOO IMPORTANT HOLY CRAP WHY DOES THE \"?\" CHAR CRASH TERRIER?!?!?!?!?\n",
    "        title = title.translate(str.maketrans('', '', string.punctuation))\n",
    "        new_row = {'qid': qid, 'query': title}\n",
    "        new_row_df = pd.DataFrame([new_row])\n",
    "        processed_queries = pd.concat([processed_queries, new_row_df], ignore_index=True)\n",
    "        \n",
    "    return processed_queries\n",
    "    \"\"\" #deprecated this should work but doesnt..."
   ]
  },
  {
   "cell_type": "code",
   "execution_count": 14,
   "metadata": {},
   "outputs": [],
   "source": [
    "#processes the queires via the provided class example.\n",
    "#further expienments should change how we do this\n",
    "def process_queries(queries):\n",
    "    lst_q = []\n",
    "    for item in queries:\n",
    "        lst_q.append([item['Id'],\n",
    "        item['Title'].translate(str.maketrans('', '', string.punctuation))])\n",
    "    processed_queries = pd.DataFrame(lst_q, columns=[\"qid\", \"query\"])\n",
    "    return processed_queries"
   ]
  },
  {
   "cell_type": "code",
   "execution_count": 15,
   "metadata": {},
   "outputs": [],
   "source": [
    "queries = json.load(open(query_file))\n",
    "processed_queries = process_queries(queries)"
   ]
  },
  {
   "cell_type": "code",
   "execution_count": 16,
   "metadata": {},
   "outputs": [],
   "source": [
    "#define the retreivers for all the models used\n",
    "\n",
    "bm_retr = pt.terrier.Retriever(index,controls = {\"wmodel\": \"BM25\"},verbose=True,num_results=1000)\n",
    "dfiz_retr = pt.terrier.Retriever(index,controls = {\"wmodel\": \"DFIZ\"},verbose=True,num_results=1000)\n",
    "dfic_retr = pt.terrier.Retriever(index,controls = {\"wmodel\": \"DFIC\"},verbose=True,num_results=1000)\n",
    "hiemstralm_retr = pt.terrier.Retriever(index,controls = {\"wmodel\": \"Hiemstra_LM\"},verbose=True,num_results=1000)\n",
    "dfree_retr = pt.terrier.Retriever(index,controls = {\"wmodel\": \"DFRee\"},verbose=True,num_results=1000)\n",
    "dfreeKlim_retr = pt.terrier.Retriever(index,controls = {\"wmodel\": \"DFReeKLIM\"},verbose=True,num_results=1000)\n",
    "tf_retr = pt.terrier.Retriever(index,controls = {\"wmodel\": \"TF_IDF\"},verbose=True,num_results=1000)"
   ]
  },
  {
   "cell_type": "code",
   "execution_count": 23,
   "metadata": {},
   "outputs": [
    {
     "name": "stderr",
     "output_type": "stream",
     "text": [
      "TerrierRetr(BM25): 100%|██████████| 1000/1000 [00:14<00:00, 68.83q/s]\n",
      "TerrierRetr(DFIZ): 100%|██████████| 1000/1000 [00:17<00:00, 56.73q/s]\n",
      "TerrierRetr(DFIC): 100%|██████████| 1000/1000 [00:15<00:00, 65.90q/s]\n",
      "TerrierRetr(Hiemstra_LM): 100%|██████████| 1000/1000 [00:17<00:00, 58.14q/s]\n",
      "TerrierRetr(DFRee): 100%|██████████| 1000/1000 [00:19<00:00, 51.85q/s]\n",
      "TerrierRetr(DFReeKLIM): 100%|██████████| 1000/1000 [00:15<00:00, 63.16q/s]\n",
      "TerrierRetr(TF_IDF): 100%|██████████| 1000/1000 [00:16<00:00, 59.33q/s]\n"
     ]
    }
   ],
   "source": [
    "#Testing for two models to make sure things are properly working\n",
    "bm_res = bm_retr.transform(processed_queries)\n",
    "dfiz_res = dfiz_retr.transform(processed_queries)\n",
    "dfic_res = dfic_retr.transform(processed_queries)\n",
    "hiem_res = hiemstralm_retr.transform(processed_queries)\n",
    "dfree_res = dfree_retr.transform(processed_queries)\n",
    "dfreeKlim_res = dfreeKlim_retr.transform(processed_queries)\n",
    "tf_res = tf_retr.transform(processed_queries)"
   ]
  },
  {
   "cell_type": "code",
   "execution_count": 24,
   "metadata": {},
   "outputs": [],
   "source": [
    "bm_res = pd.DataFrame(bm_res)\n",
    "dfiz_res = pd.DataFrame(dfiz_res)\n",
    "dfic_res = pd.DataFrame(dfic_res)\n",
    "hiem_res = pd.DataFrame(hiem_res)\n",
    "dfree_res = pd.DataFrame(dfree_res)\n",
    "dfreeKlim_res = pd.DataFrame(dfreeKlim_res)\n",
    "tf_res = pd.DataFrame(tf_res)\n",
    "\n",
    "bm_res.to_csv('bm_results_topic2.tsv', sep='\\t', index=False)\n",
    "dfiz_res.to_csv('dfiz_results_topic2.tsv', sep='\\t', index=False)\n",
    "dfic_res.to_csv('dfic_results_topic2.tsv', sep='\\t', index=False)\n",
    "hiem_res.to_csv('hiem_results_topic2.tsv', sep='\\t', index=False)\n",
    "dfree_res.to_csv('dfree_results_topic2.tsv', sep='\\t', index=False)\n",
    "dfreeKlim_res.to_csv('dfrklim_results_topic2.tsv', sep='\\t', index=False)\n",
    "tf_res.to_csv('tf_results_topic2.tsv', sep='\\t', index=False)"
   ]
  },
  {
   "cell_type": "code",
   "execution_count": 17,
   "metadata": {},
   "outputs": [],
   "source": [
    "#evaluation\n",
    "from pyterrier.measures import *\n",
    "qrels = pt.io.read_qrels(qrel_file)"
   ]
  },
  {
   "cell_type": "code",
   "execution_count": 18,
   "metadata": {},
   "outputs": [],
   "source": [
    "metrics = [\"ndcg\", \"P_5\", \"P_10\", \"P\", \"map\", \"bpref\",\"recip_rank\"]"
   ]
  },
  {
   "cell_type": "code",
   "execution_count": null,
   "metadata": {},
   "outputs": [],
   "source": [
    "#defines the expirment to run using chosen metrics and excluding queries not in the qrel\n",
    "res = pt.Experiment(\n",
    "    [bm_retr,dfiz_retr,dfic_retr,hiemstralm_retr,dfree_retr,dfreeKlim_retr,tf_retr],\n",
    "    processed_queries,\n",
    "    qrels,\n",
    "    eval_metrics=metrics,\n",
    "    names=[\"BM25\",\"DFIZ\",\"DFIC\",\"Hiemstra_Lm\",\"DFRee\",\"DFreeKlim\",\"TF-IDF\"],\n",
    "    save_dir=\"./\",\n",
    "    filter_by_qrels=False,\n",
    "    filter_by_topics=False,\n",
    "    test='t',\n",
    "    baseline=6\n",
    ")"
   ]
  },
  {
   "cell_type": "code",
   "execution_count": null,
   "metadata": {},
   "outputs": [],
   "source": [
    "print(res)"
   ]
  },
  {
   "cell_type": "code",
   "execution_count": 122,
   "metadata": {},
   "outputs": [],
   "source": [
    "#formatting results into a dataframe for export\n",
    "names=[\"BM25\",\"DFIZ\",\"DFIC\",\"Hiemstra_Lm\",\"DFRee\",\"DFreeKlim\",\"TF-IDF\"]\n",
    "res_df = pd.DataFrame(res)"
   ]
  },
  {
   "cell_type": "code",
   "execution_count": 107,
   "metadata": {},
   "outputs": [],
   "source": [
    "res_df.to_csv('results.tsv', sep='\\t', index=False)"
   ]
  },
  {
   "cell_type": "code",
   "execution_count": null,
   "metadata": {},
   "outputs": [],
   "source": [
    "#runs a per query expirement for top 3 models\n",
    "per_query = pt.Experiment(\n",
    "    [bm_retr,tf_retr,dfree_retr],\n",
    "    processed_queries,\n",
    "    qrels,\n",
    "    eval_metrics=[\"ndcg\", \"P_5\", \"bpref\",\"recip_rank\"],\n",
    "    filter_by_qrels=True,\n",
    "    perquery=True,\n",
    "    names=[\"BM25\",\"TF-IDF\",\"DFreeKlim\"]\n",
    "    )"
   ]
  },
  {
   "cell_type": "code",
   "execution_count": 130,
   "metadata": {},
   "outputs": [],
   "source": [
    "per_query.to_csv('per_q.tsv',sep='\\t', index=False)"
   ]
  },
  {
   "cell_type": "code",
   "execution_count": null,
   "metadata": {},
   "outputs": [],
   "source": [
    "#Ad-hoc querry\n",
    "ad_hoc = \"best way to monitor processes\"\n",
    "top_k = 5\n",
    "top_k_bm = bm_retr.search(ad_hoc).head(top_k)\n",
    "top_k_df = dfreeKlim_retr.search(ad_hoc).head(top_k)\n"
   ]
  },
  {
   "cell_type": "code",
   "execution_count": 31,
   "metadata": {},
   "outputs": [],
   "source": [
    "#for in editor viewing of result information.\n",
    "df_results = pd.read_csv(\"results/topic_1_DFreeKlim.res/DFreeKlim.res\", sep=' ')\n",
    "tf_results = pd.read_csv(\"results/topic_1_TF-IDF.res/TF-IDF.res\", sep=' ')\n",
    "bm_results = pd.read_csv(\"results/topic_1_BM25.res/BM25.res\", sep=' ')"
   ]
  },
  {
   "cell_type": "code",
   "execution_count": null,
   "metadata": {},
   "outputs": [],
   "source": []
  }
 ],
 "metadata": {
  "kernelspec": {
   "display_name": ".venv",
   "language": "python",
   "name": "python3"
  },
  "language_info": {
   "codemirror_mode": {
    "name": "ipython",
    "version": 3
   },
   "file_extension": ".py",
   "mimetype": "text/x-python",
   "name": "python",
   "nbconvert_exporter": "python",
   "pygments_lexer": "ipython3",
   "version": "3.12.3"
  }
 },
 "nbformat": 4,
 "nbformat_minor": 2
}
