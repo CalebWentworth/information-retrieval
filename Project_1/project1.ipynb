{
 "cells": [
  {
   "cell_type": "code",
   "execution_count": 1,
   "metadata": {},
   "outputs": [],
   "source": [
    "import nltk\n",
    "import pandas as pd\n",
    "from bs4 import BeautifulSoup\n",
    "import json\n",
    "import lxml\n",
    "import pandas as pd\n",
    "import pyterrier as pt\n",
    "import string\n",
    "\n"
   ]
  },
  {
   "cell_type": "code",
   "execution_count": 2,
   "metadata": {},
   "outputs": [],
   "source": [
    "!rm -rf ./index"
   ]
  },
  {
   "cell_type": "code",
   "execution_count": 3,
   "metadata": {},
   "outputs": [
    {
     "name": "stderr",
     "output_type": "stream",
     "text": [
      "[nltk_data] Downloading package stopwords to /home/caleb/nltk_data...\n",
      "[nltk_data]   Package stopwords is already up-to-date!\n",
      "[nltk_data] Downloading package punkt to /home/caleb/nltk_data...\n",
      "[nltk_data]   Package punkt is already up-to-date!\n"
     ]
    },
    {
     "data": {
      "text/plain": [
       "True"
      ]
     },
     "execution_count": 3,
     "metadata": {},
     "output_type": "execute_result"
    }
   ],
   "source": [
    "nltk.download('stopwords')\n",
    "nltk.download('punkt')\n"
   ]
  },
  {
   "cell_type": "code",
   "execution_count": 4,
   "metadata": {},
   "outputs": [],
   "source": [
    "input_file = \"Answers.json\"\n",
    "query_file = \"topics_1.json\"\n",
    "qrel_file = \"qrel_1.tsv\"\n",
    "\n",
    "with open(input_file,'r') as file:\n",
    "    answers = json.load(file)\n",
    "\n",
    "with open(query_file,'r') as file:\n",
    "    queries = json.load(file)"
   ]
  },
  {
   "cell_type": "code",
   "execution_count": 5,
   "metadata": {},
   "outputs": [],
   "source": [
    "def process_input(data):\n",
    "    for item in data:\n",
    "        text = item['Text']\n",
    "        soup = BeautifulSoup(text, \"lxml\")\n",
    "        text = soup.get_text()\n",
    "        item['Text'] = text"
   ]
  },
  {
   "cell_type": "code",
   "execution_count": 7,
   "metadata": {},
   "outputs": [
    {
     "name": "stderr",
     "output_type": "stream",
     "text": [
      "/tmp/ipykernel_190772/1494876135.py:4: MarkupResemblesLocatorWarning: The input looks more like a filename than markup. You may want to open this file and pass the filehandle into Beautiful Soup.\n",
      "  soup = BeautifulSoup(text, \"lxml\")\n",
      "/tmp/ipykernel_190772/1494876135.py:4: MarkupResemblesLocatorWarning: The input looks more like a URL than markup. You may want to use an HTTP client like requests to get the document behind the URL, and feed that document to Beautiful Soup.\n",
      "  soup = BeautifulSoup(text, \"lxml\")\n"
     ]
    }
   ],
   "source": [
    "process_input(answers)"
   ]
  },
  {
   "cell_type": "code",
   "execution_count": 8,
   "metadata": {},
   "outputs": [],
   "source": [
    "index_path = \"./index\""
   ]
  },
  {
   "cell_type": "code",
   "execution_count": 9,
   "metadata": {},
   "outputs": [],
   "source": [
    "columns = ['Id','Text','Score']"
   ]
  },
  {
   "cell_type": "code",
   "execution_count": 10,
   "metadata": {},
   "outputs": [],
   "source": [
    "answer_frame = pd.DataFrame(answers, columns=columns)\n"
   ]
  },
  {
   "cell_type": "code",
   "execution_count": 11,
   "metadata": {},
   "outputs": [],
   "source": [
    "answer_frame = answer_frame.rename(columns={'Id': 'docno','Text':'text'})"
   ]
  },
  {
   "cell_type": "code",
   "execution_count": 12,
   "metadata": {},
   "outputs": [
    {
     "data": {
      "text/html": [
       "<div>\n",
       "<style scoped>\n",
       "    .dataframe tbody tr th:only-of-type {\n",
       "        vertical-align: middle;\n",
       "    }\n",
       "\n",
       "    .dataframe tbody tr th {\n",
       "        vertical-align: top;\n",
       "    }\n",
       "\n",
       "    .dataframe thead th {\n",
       "        text-align: right;\n",
       "    }\n",
       "</style>\n",
       "<table border=\"1\" class=\"dataframe\">\n",
       "  <thead>\n",
       "    <tr style=\"text-align: right;\">\n",
       "      <th></th>\n",
       "      <th>docno</th>\n",
       "      <th>text</th>\n",
       "      <th>Score</th>\n",
       "    </tr>\n",
       "  </thead>\n",
       "  <tbody>\n",
       "    <tr>\n",
       "      <th>0</th>\n",
       "      <td>2</td>\n",
       "      <td>Maybe these instructions will help you to get ...</td>\n",
       "      <td>41</td>\n",
       "    </tr>\n",
       "    <tr>\n",
       "      <th>1</th>\n",
       "      <td>10</td>\n",
       "      <td>You could use freenx instead of vnc. Freenx tr...</td>\n",
       "      <td>12</td>\n",
       "    </tr>\n",
       "    <tr>\n",
       "      <th>2</th>\n",
       "      <td>12</td>\n",
       "      <td>Yes, X forwarding over ssh is a beautiful thin...</td>\n",
       "      <td>22</td>\n",
       "    </tr>\n",
       "    <tr>\n",
       "      <th>3</th>\n",
       "      <td>18</td>\n",
       "      <td>You can use the alternative CD (instead of Ubu...</td>\n",
       "      <td>7</td>\n",
       "    </tr>\n",
       "    <tr>\n",
       "      <th>4</th>\n",
       "      <td>19</td>\n",
       "      <td>I've always helped identified people's needs a...</td>\n",
       "      <td>8</td>\n",
       "    </tr>\n",
       "    <tr>\n",
       "      <th>...</th>\n",
       "      <td>...</td>\n",
       "      <td>...</td>\n",
       "      <td>...</td>\n",
       "    </tr>\n",
       "    <tr>\n",
       "      <th>523723</th>\n",
       "      <td>1509129</td>\n",
       "      <td>If anyone struggling with this, copy the conte...</td>\n",
       "      <td>1</td>\n",
       "    </tr>\n",
       "    <tr>\n",
       "      <th>523724</th>\n",
       "      <td>1509131</td>\n",
       "      <td>Edit the file /etc/systemd/sleep.conf with the...</td>\n",
       "      <td>0</td>\n",
       "    </tr>\n",
       "    <tr>\n",
       "      <th>523725</th>\n",
       "      <td>1509140</td>\n",
       "      <td>Had a similar issue withAndroid Smartphone: Hu...</td>\n",
       "      <td>1</td>\n",
       "    </tr>\n",
       "    <tr>\n",
       "      <th>523726</th>\n",
       "      <td>1509147</td>\n",
       "      <td>As described in another answer, the solusion i...</td>\n",
       "      <td>0</td>\n",
       "    </tr>\n",
       "    <tr>\n",
       "      <th>523727</th>\n",
       "      <td>1509152</td>\n",
       "      <td>xmodmap will reset upon plugging in a new keyb...</td>\n",
       "      <td>0</td>\n",
       "    </tr>\n",
       "  </tbody>\n",
       "</table>\n",
       "<p>523728 rows × 3 columns</p>\n",
       "</div>"
      ],
      "text/plain": [
       "          docno                                               text Score\n",
       "0             2  Maybe these instructions will help you to get ...    41\n",
       "1            10  You could use freenx instead of vnc. Freenx tr...    12\n",
       "2            12  Yes, X forwarding over ssh is a beautiful thin...    22\n",
       "3            18  You can use the alternative CD (instead of Ubu...     7\n",
       "4            19  I've always helped identified people's needs a...     8\n",
       "...         ...                                                ...   ...\n",
       "523723  1509129  If anyone struggling with this, copy the conte...     1\n",
       "523724  1509131  Edit the file /etc/systemd/sleep.conf with the...     0\n",
       "523725  1509140  Had a similar issue withAndroid Smartphone: Hu...     1\n",
       "523726  1509147  As described in another answer, the solusion i...     0\n",
       "523727  1509152  xmodmap will reset upon plugging in a new keyb...     0\n",
       "\n",
       "[523728 rows x 3 columns]"
      ]
     },
     "execution_count": 12,
     "metadata": {},
     "output_type": "execute_result"
    }
   ],
   "source": [
    "answer_frame"
   ]
  },
  {
   "cell_type": "code",
   "execution_count": 13,
   "metadata": {},
   "outputs": [
    {
     "name": "stderr",
     "output_type": "stream",
     "text": [
      "Java started (triggered by TerrierIndexer.__init__) and loaded: pyterrier.java, pyterrier.terrier.java [version=5.10 (build: craigm 2024-08-22 17:33), helper_version=0.0.8]\n"
     ]
    },
    {
     "name": "stdout",
     "output_type": "stream",
     "text": [
      "05:37:01.305 [ForkJoinPool-1-worker-1] WARN org.terrier.structures.indexing.Indexer -- Adding an empty document to the index (16123) - further warnings are suppressed\n",
      "05:37:27.446 [ForkJoinPool-1-worker-1] WARN org.terrier.structures.indexing.Indexer -- Indexed 4 empty documents\n"
     ]
    }
   ],
   "source": [
    "pd_indexer = pt.terrier.IterDictIndexer(index_path).index(answer_frame.to_dict(orient='records'))"
   ]
  },
  {
   "cell_type": "code",
   "execution_count": 14,
   "metadata": {},
   "outputs": [],
   "source": [
    "index = pt.IndexFactory.of(pd_indexer)"
   ]
  },
  {
   "cell_type": "code",
   "execution_count": 15,
   "metadata": {},
   "outputs": [
    {
     "name": "stdout",
     "output_type": "stream",
     "text": [
      "Number of documents: 523728\n",
      "Number of terms: 621170\n",
      "Number of postings: 19910779\n",
      "Number of fields: 1\n",
      "Number of tokens: 31763654\n",
      "Field names: [text]\n",
      "Positions:   false\n",
      "\n"
     ]
    }
   ],
   "source": [
    "print(index.getCollectionStatistics().toString())"
   ]
  },
  {
   "cell_type": "code",
   "execution_count": 16,
   "metadata": {},
   "outputs": [],
   "source": [
    "#temp deprecated\n",
    "#queries = pd.read_json(query_file)"
   ]
  },
  {
   "cell_type": "code",
   "execution_count": null,
   "metadata": {},
   "outputs": [],
   "source": [
    "#temp deprecated\n",
    "# queries.drop(columns=['Body'])"
   ]
  },
  {
   "cell_type": "code",
   "execution_count": 18,
   "metadata": {},
   "outputs": [],
   "source": [
    "\"\"\"def process_queries(queries):\n",
    "    #this converts the raw json querries into [qid: 'num',query:[token,token,token]]\n",
    "    processed_queries = pd.DataFrame(columns=['qid', 'query'])\n",
    "\n",
    "    for index, row in queries.iterrows():\n",
    "        qid, title = row['Id'], row['Title']\n",
    "        #THIS IS SOOOO IMPORTANT HOLY CRAP WHY DOES THE \"?\" CHAR CRASH TERRIER?!?!?!?!?\n",
    "        title = title.translate(str.maketrans('', '', string.punctuation))\n",
    "        new_row = {'qid': qid, 'query': title}\n",
    "        new_row_df = pd.DataFrame([new_row])\n",
    "        processed_queries = pd.concat([processed_queries, new_row_df], ignore_index=True)\n",
    "        \n",
    "    return processed_queries\n",
    "    \"\"\" #deprecated this should work but doesnt..."
   ]
  },
  {
   "cell_type": "code",
   "execution_count": 28,
   "metadata": {},
   "outputs": [],
   "source": [
    "def process_queries(queries):\n",
    "    lst_q = []\n",
    "\n",
    "    for item in queries:\n",
    "        lst_q.append([item['Id'],\n",
    "        item['Title'].translate(str.maketrans('', '', string.punctuation))])\n",
    "    processed_queries = pd.DataFrame(lst_q, columns=[\"qid\", \"query\"])\n",
    "    return processed_queries"
   ]
  },
  {
   "cell_type": "code",
   "execution_count": 29,
   "metadata": {},
   "outputs": [],
   "source": [
    "queries = json.load(open(query_file))\n",
    "processed_queries = process_queries(queries)"
   ]
  },
  {
   "cell_type": "code",
   "execution_count": 59,
   "metadata": {},
   "outputs": [],
   "source": [
    "bm_retr = pt.terrier.Retriever(index,controls = {\"wmodel\": \"BM25\"},verbose=True,num_results=1000)\n",
    "dfiz_retr = pt.terrier.Retriever(index,controls = {\"wmodel\": \"DFIZ\"},verbose=True,num_results=1000)\n",
    "dfic_retr = pt.terrier.Retriever(index,controls = {\"wmodel\": \"DFIC\"},verbose=True,num_results=1000)\n",
    "hiemstralm_retr = pt.terrier.Retriever(index,controls = {\"wmodel\": \"Hiemstra_LM\"},verbose=True,num_results=1000)\n",
    "dfree_retr = pt.terrier.Retriever(index,controls = {\"wmodel\": \"DFRee\"},verbose=True,num_results=1000)\n",
    "dfreeKlim_retr = pt.terrier.Retriever(index,controls = {\"wmodel\": \"DFReeKLIM\"},verbose=True,num_results=1000)\n",
    "tf_retr = pt.terrier.Retriever(index,controls = {\"wmodel\": \"TF_IDF\"},verbose=True,num_results=1000)"
   ]
  },
  {
   "cell_type": "code",
   "execution_count": 98,
   "metadata": {},
   "outputs": [
    {
     "name": "stderr",
     "output_type": "stream",
     "text": [
      "TerrierRetr(BM25): 100%|██████████| 5418/5418 [01:23<00:00, 65.24q/s] \n",
      "TerrierRetr(DFIZ): 100%|██████████| 5418/5418 [01:25<00:00, 63.55q/s] \n"
     ]
    }
   ],
   "source": [
    "bm_res = bm_retr.transform(processed_queries)\n",
    "dfiz_res = dfiz_retr.transform(processed_queries)"
   ]
  },
  {
   "cell_type": "code",
   "execution_count": null,
   "metadata": {},
   "outputs": [],
   "source": [
    "#bm_retr.transform(processed_queries.loc[0,\"query\"])"
   ]
  },
  {
   "cell_type": "code",
   "execution_count": 61,
   "metadata": {},
   "outputs": [
    {
     "data": {
      "text/plain": [
       "'How can I set the Software Center to install software for nonroot users'"
      ]
     },
     "execution_count": 61,
     "metadata": {},
     "output_type": "execute_result"
    }
   ],
   "source": [
    "#processed_queries.loc[0,\"query\"]"
   ]
  },
  {
   "cell_type": "code",
   "execution_count": 99,
   "metadata": {},
   "outputs": [],
   "source": [
    "pt.io.write_results(bm_res, \"res_bm25.txt\",format= \"trec\")\n",
    "pt.io.write_results(dfiz_res,\"res_dfiz.txt\",format= \"trec\")"
   ]
  },
  {
   "cell_type": "code",
   "execution_count": 40,
   "metadata": {},
   "outputs": [],
   "source": [
    "#evaluation\n",
    "from pyterrier.measures import *\n",
    "qrels = pt.io.read_qrels(qrel_file)\n",
    "\n"
   ]
  },
  {
   "cell_type": "code",
   "execution_count": 125,
   "metadata": {},
   "outputs": [],
   "source": [
    "bm_eval = pt.Evaluate(bm_res,qrels)\n",
    "dfiz_eval = pt.Evaluate(dfiz_res,qrels) "
   ]
  },
  {
   "cell_type": "code",
   "execution_count": 102,
   "metadata": {},
   "outputs": [
    {
     "data": {
      "text/plain": [
       "{'map': 0.06573296091324747, 'ndcg': 0.18349634876631107}"
      ]
     },
     "execution_count": 102,
     "metadata": {},
     "output_type": "execute_result"
    }
   ],
   "source": [
    "dfiz_eval"
   ]
  },
  {
   "cell_type": "code",
   "execution_count": 91,
   "metadata": {},
   "outputs": [],
   "source": [
    "metrics = [\"ndcg\", \"P_5\", \"P_10\", \"P\", \"map\", \"bpref\",\"recip_rank\"]"
   ]
  },
  {
   "cell_type": "code",
   "execution_count": 103,
   "metadata": {},
   "outputs": [
    {
     "name": "stderr",
     "output_type": "stream",
     "text": [
      "/home/caleb/school/information-retrieval/.venv/lib/python3.12/site-packages/pyterrier/pipelines.py:171: UserWarning: save_dir is set, but the file './BM25.res.gz' already exists. If you are aware of are happy to reuse this file to speed up evaluation, set save_mode='reuse'; if you want to overwrite it, set save_mode='overwrite'. To make this condition an error, use save_mode='error'.\n",
      "  warn((\"save_dir is set, but the file '%s' already exists. If you are aware of are happy to reuse this \" % save_file)+\n",
      "TerrierRetr(BM25): 100%|██████████| 5418/5418 [01:24<00:00, 64.10q/s] \n",
      "/home/caleb/school/information-retrieval/.venv/lib/python3.12/site-packages/pyterrier/pipelines.py:171: UserWarning: save_dir is set, but the file './DFIZ.res.gz' already exists. If you are aware of are happy to reuse this file to speed up evaluation, set save_mode='reuse'; if you want to overwrite it, set save_mode='overwrite'. To make this condition an error, use save_mode='error'.\n",
      "  warn((\"save_dir is set, but the file '%s' already exists. If you are aware of are happy to reuse this \" % save_file)+\n",
      "TerrierRetr(DFIZ): 100%|██████████| 5418/5418 [01:25<00:00, 63.20q/s] \n",
      "/home/caleb/school/information-retrieval/.venv/lib/python3.12/site-packages/pyterrier/pipelines.py:171: UserWarning: save_dir is set, but the file './DFIC.res.gz' already exists. If you are aware of are happy to reuse this file to speed up evaluation, set save_mode='reuse'; if you want to overwrite it, set save_mode='overwrite'. To make this condition an error, use save_mode='error'.\n",
      "  warn((\"save_dir is set, but the file '%s' already exists. If you are aware of are happy to reuse this \" % save_file)+\n",
      "TerrierRetr(DFIC): 100%|██████████| 5418/5418 [01:24<00:00, 63.74q/s] \n",
      "/home/caleb/school/information-retrieval/.venv/lib/python3.12/site-packages/pyterrier/pipelines.py:171: UserWarning: save_dir is set, but the file './Hiemstra_Lm.res.gz' already exists. If you are aware of are happy to reuse this file to speed up evaluation, set save_mode='reuse'; if you want to overwrite it, set save_mode='overwrite'. To make this condition an error, use save_mode='error'.\n",
      "  warn((\"save_dir is set, but the file '%s' already exists. If you are aware of are happy to reuse this \" % save_file)+\n",
      "TerrierRetr(Hiemstra_LM): 100%|██████████| 5418/5418 [01:22<00:00, 65.53q/s] \n",
      "/home/caleb/school/information-retrieval/.venv/lib/python3.12/site-packages/pyterrier/pipelines.py:171: UserWarning: save_dir is set, but the file './DFRee.res.gz' already exists. If you are aware of are happy to reuse this file to speed up evaluation, set save_mode='reuse'; if you want to overwrite it, set save_mode='overwrite'. To make this condition an error, use save_mode='error'.\n",
      "  warn((\"save_dir is set, but the file '%s' already exists. If you are aware of are happy to reuse this \" % save_file)+\n",
      "TerrierRetr(DFRee): 100%|██████████| 5418/5418 [01:46<00:00, 50.74q/s] \n",
      "/home/caleb/school/information-retrieval/.venv/lib/python3.12/site-packages/pyterrier/pipelines.py:171: UserWarning: save_dir is set, but the file './DFreeKlim.res.gz' already exists. If you are aware of are happy to reuse this file to speed up evaluation, set save_mode='reuse'; if you want to overwrite it, set save_mode='overwrite'. To make this condition an error, use save_mode='error'.\n",
      "  warn((\"save_dir is set, but the file '%s' already exists. If you are aware of are happy to reuse this \" % save_file)+\n",
      "TerrierRetr(DFReeKLIM): 100%|██████████| 5418/5418 [01:26<00:00, 62.71q/s] \n",
      "/home/caleb/school/information-retrieval/.venv/lib/python3.12/site-packages/pyterrier/pipelines.py:171: UserWarning: save_dir is set, but the file './TF-IDF.res.gz' already exists. If you are aware of are happy to reuse this file to speed up evaluation, set save_mode='reuse'; if you want to overwrite it, set save_mode='overwrite'. To make this condition an error, use save_mode='error'.\n",
      "  warn((\"save_dir is set, but the file '%s' already exists. If you are aware of are happy to reuse this \" % save_file)+\n",
      "TerrierRetr(TF_IDF): 100%|██████████| 5418/5418 [01:24<00:00, 63.97q/s] \n"
     ]
    }
   ],
   "source": [
    "res = pt.Experiment(\n",
    "    [bm_retr,dfiz_retr,dfic_retr,hiemstralm_retr,dfree_retr,dfreeKlim_retr,tf_retr],\n",
    "    processed_queries,\n",
    "    qrels,\n",
    "    eval_metrics=metrics,\n",
    "    names=[\"BM25\",\"DFIZ\",\"DFIC\",\"Hiemstra_Lm\",\"DFRee\",\"DFreeKlim\",\"TF-IDF\"],\n",
    "    save_dir=\"./\",\n",
    "    filter_by_qrels=True,\n",
    "    test='t',\n",
    "    baseline=6\n",
    ")"
   ]
  },
  {
   "cell_type": "code",
   "execution_count": 104,
   "metadata": {},
   "outputs": [
    {
     "name": "stdout",
     "output_type": "stream",
     "text": [
      "          name       map     bpref       P_5      P_10      P@15      P@20  \\\n",
      "0         BM25  0.070726  0.391480  0.072056  0.056109  0.046659  0.040153   \n",
      "1         DFIZ  0.065733  0.380561  0.068217  0.052953  0.043189  0.036859   \n",
      "2         DFIC  0.065375  0.382195  0.066962  0.052529  0.043140  0.036859   \n",
      "3  Hiemstra_Lm  0.064760  0.381157  0.065116  0.050369  0.041688  0.036139   \n",
      "4        DFRee  0.066965  0.375575  0.070616  0.053027  0.043202  0.037080   \n",
      "5    DFreeKlim  0.069691  0.388222  0.071945  0.055131  0.045035  0.038787   \n",
      "6       TF-IDF  0.070619  0.390821  0.072721  0.056202  0.046425  0.039932   \n",
      "\n",
      "       P@30     P@100     P@200  ...  P@200 p-value  P@500 +  P@500 -  \\\n",
      "0  0.031635  0.014566  0.009025  ...   5.324495e-03    228.0    177.0   \n",
      "1  0.029254  0.013547  0.008401  ...   2.186265e-43    347.0    918.0   \n",
      "2  0.029316  0.013525  0.008427  ...   1.072979e-40    360.0    881.0   \n",
      "3  0.028781  0.013763  0.008596  ...   1.825037e-18    557.0    821.0   \n",
      "4  0.029304  0.013331  0.008241  ...   2.840962e-57    326.0   1066.0   \n",
      "5  0.030737  0.014003  0.008685  ...   2.371747e-17    304.0    657.0   \n",
      "6  0.031555  0.014548  0.008974  ...            NaN      NaN      NaN   \n",
      "\n",
      "   P@500 p-value  P@1000 +  P@1000 -  P@1000 p-value  ndcg +  ndcg -  \\\n",
      "0   2.920946e-02     216.0     159.0    4.646739e-03  2130.0  2046.0   \n",
      "1   2.607481e-57     313.0     907.0    3.032244e-63  1599.0  2952.0   \n",
      "2   5.305001e-48     326.0     844.0    7.174399e-52  1577.0  2971.0   \n",
      "3   1.702015e-14     589.0     728.0    3.363421e-05  1766.0  2815.0   \n",
      "4   7.802328e-89     303.0    1066.0    2.295993e-93  1742.0  2808.0   \n",
      "5   4.221436e-30     271.0     573.0    8.439998e-26  1875.0  2638.0   \n",
      "6            NaN       NaN       NaN             NaN     NaN     NaN   \n",
      "\n",
      "   ndcg p-value  \n",
      "0  1.253573e-01  \n",
      "1  7.908400e-21  \n",
      "2  1.567826e-22  \n",
      "3  2.976866e-33  \n",
      "4  1.836668e-21  \n",
      "5  1.034958e-02  \n",
      "6           NaN  \n",
      "\n",
      "[7 rows x 49 columns]\n"
     ]
    }
   ],
   "source": [
    "print(res)"
   ]
  },
  {
   "cell_type": "code",
   "execution_count": 81,
   "metadata": {},
   "outputs": [],
   "source": [
    "import matplotlib.pyplot as plt\n",
    "import numpy as np"
   ]
  },
  {
   "cell_type": "code",
   "execution_count": 122,
   "metadata": {},
   "outputs": [],
   "source": [
    "names=[\"BM25\",\"DFIZ\",\"DFIC\",\"Hiemstra_Lm\",\"DFRee\",\"DFreeKlim\",\"TF-IDF\"]\n",
    "\n",
    "res_df = pd.DataFrame(res)"
   ]
  },
  {
   "cell_type": "code",
   "execution_count": null,
   "metadata": {},
   "outputs": [],
   "source": [
    "res_df\n"
   ]
  },
  {
   "cell_type": "code",
   "execution_count": 107,
   "metadata": {},
   "outputs": [],
   "source": [
    "res_df.to_csv('results.tsv', sep='\\t', index=False)"
   ]
  },
  {
   "cell_type": "code",
   "execution_count": 129,
   "metadata": {},
   "outputs": [
    {
     "name": "stderr",
     "output_type": "stream",
     "text": [
      "TerrierRetr(BM25):   0%|          | 0/5418 [00:00<?, ?q/s]"
     ]
    },
    {
     "name": "stderr",
     "output_type": "stream",
     "text": [
      "TerrierRetr(BM25): 100%|██████████| 5418/5418 [01:27<00:00, 62.01q/s] \n",
      "TerrierRetr(TF_IDF): 100%|██████████| 5418/5418 [01:25<00:00, 63.73q/s] \n",
      "TerrierRetr(DFRee): 100%|██████████| 5418/5418 [01:43<00:00, 52.19q/s] \n"
     ]
    }
   ],
   "source": [
    "per_query = pt.Experiment(\n",
    "    [bm_retr,tf_retr,dfree_retr],\n",
    "    processed_queries,\n",
    "    qrels,\n",
    "    eval_metrics=[\"ndcg\", \"P_5\", \"bpref\",\"recip_rank\"],\n",
    "    filter_by_qrels=True,\n",
    "    perquery=True,\n",
    "    names=[\"BM25\",\"TF-IDF\",\"DFreeKlim\"]\n",
    "    )"
   ]
  },
  {
   "cell_type": "code",
   "execution_count": 130,
   "metadata": {},
   "outputs": [],
   "source": [
    "per_query.to_csv('per_q.tsv',sep='\\t', index=False)"
   ]
  },
  {
   "cell_type": "code",
   "execution_count": 115,
   "metadata": {},
   "outputs": [
    {
     "name": "stderr",
     "output_type": "stream",
     "text": [
      "TerrierRetr(BM25): 100%|██████████| 1/1 [00:00<00:00, 38.74q/s]\n"
     ]
    }
   ],
   "source": [
    "#Ad-hoc querry\n",
    "ad_hoc = \"best way to monitor processes\"\n",
    "top_k = 5\n",
    "top_k_bm = bm_retr.search(ad_hoc).head(top_k)\n",
    "top_k_df = dfreeKlim_retr.search(ad_hoc).head(top_k)\n"
   ]
  }
 ],
 "metadata": {
  "kernelspec": {
   "display_name": ".venv",
   "language": "python",
   "name": "python3"
  },
  "language_info": {
   "codemirror_mode": {
    "name": "ipython",
    "version": 3
   },
   "file_extension": ".py",
   "mimetype": "text/x-python",
   "name": "python",
   "nbconvert_exporter": "python",
   "pygments_lexer": "ipython3",
   "version": "3.12.3"
  }
 },
 "nbformat": 4,
 "nbformat_minor": 2
}
